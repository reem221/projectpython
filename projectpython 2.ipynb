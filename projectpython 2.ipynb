{
  "cells": [
    {
      "cell_type": "code",
      "execution_count": null,
      "metadata": {
        "id": "n1tJChWG8joF"
      },
      "outputs": [],
      "source": [
        "# We will use the abbreviation np instead of Numpy\n",
        "# We will use the abbreviation pd instead of Pandas\n",
        "import pandas as pd\n",
        "import numpy as np"
      ]
    },
    {
      "cell_type": "code",
      "execution_count": null,
      "metadata": {
        "colab": {
          "base_uri": "https://localhost:8080/"
        },
        "id": "Qk3Yu8tEIIpY",
        "outputId": "5f7a38a8-a78e-4fa1-eb41-5c852d22ee21"
      },
      "outputs": [],
      "source": [
        "def read_csv(file_path):\n",
        "    try:\n",
        "        data = pd.read_csv(file_path)\n",
        "        return data\n",
        "    except Exception as e:\n",
        "        print(\"Error reading CSV file:\", e)\n",
        "        return None\n",
        "\n",
        "def read_excel(file_path, sheet_name=0):\n",
        "    try:\n",
        "        data = pd.read_excel(file_path, sheet_name=sheet_name)\n",
        "        return data\n",
        "    except Exception as e:\n",
        "        print(\"Error reading Excel file:\", e)\n",
        "        return None\n",
        "\n",
        "def read_json(file_path):\n",
        "    try:\n",
        "        data = pd.read_json(file_path)\n",
        "        return data\n",
        "    except Exception as e:\n",
        "        print(\"Error reading JSON file:\", e)\n",
        "        return None\n",
        "x=input('')\n",
        "\n",
        "csv_data = read_csv(x)\n",
        "print(csv_data)\n",
        "excel_data = read_excel(x)\n",
        "print(excel_data)\n",
        "json_data = read_json(x)\n",
        "print(json_data)"
      ]
    },
    {
      "cell_type": "code",
      "execution_count": null,
      "metadata": {},
      "outputs": [],
      "source": [
        "from sklearn.preprocessing import LabelEncoder\n",
        "\n",
        "def encode_categorical_columns(csv_data):\n",
        "  label_encoder = LabelEncoder()\n",
        "  for column in csv_data.columns:\n",
        "        if csv_data[column].dtype == 'object':\n",
        "            csv_data[column] = label_encoder.fit_transform(csv_data[column])\n",
        "    \n",
        "  return csv_data\n",
        "csv_data=encode_categorical_columns(csv_data)\n",
        "csv_data"
      ]
    },
    {
      "cell_type": "code",
      "execution_count": null,
      "metadata": {},
      "outputs": [],
      "source": [
        "data=pd.read_csv(\"/content/Country-data.csv\")\n",
        "def describe_country(data):\n",
        "    descriptions = []\n",
        "    for column_name in data.columns:\n",
        "        column_data = data[column_name]\n",
        "        if pd.api.types.is_numeric_dtype(column_data):\n",
        "            statistics = {\n",
        "                'count': len(column_data),\n",
        "                'mean': column_data.mean(),\n",
        "                'std': column_data.std(),\n",
        "                'min': column_data.min(),\n",
        "                '25%': column_data.quantile(0.25),\n",
        "                '50%': column_data.quantile(0.5),\n",
        "                '75%': column_data.quantile(0.75),\n",
        "                'max': column_data.max()\n",
        "            }\n",
        "        else:\n",
        "            statistics = {\n",
        "                'count': len(column_data),\n",
        "                'unique': len(column_data.unique()),\n",
        "                'top': column_data.mode()[0],\n",
        "                'freq': column_data.value_counts().max()\n",
        "            }\n",
        "        descriptions.append(pd.Series(statistics, name=column_name))\n",
        "    return pd.DataFrame(descriptions)\n",
        "describe_country(data)"
      ]
    },
    {
      "cell_type": "code",
      "execution_count": null,
      "metadata": {},
      "outputs": [],
      "source": [
        "csv_data.isna().sum()"
      ]
    },
    {
      "cell_type": "code",
      "execution_count": null,
      "metadata": {},
      "outputs": [],
      "source": [
        "def missing_value(data):\n",
        "  data.fillna(data.median(),inplace=True)\n",
        "missing_value(csv_data)\n",
        "print(csv_data)"
      ]
    }
  ],
  "metadata": {
    "colab": {
      "provenance": []
    },
    "kernelspec": {
      "display_name": "Python 3",
      "name": "python3"
    },
    "language_info": {
      "name": "python"
    }
  },
  "nbformat": 4,
  "nbformat_minor": 0
}
