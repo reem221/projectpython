{
  "cells": [
    {
      "cell_type": "code",
      "execution_count": null,
      "metadata": {
        "id": "n1tJChWG8joF"
      },
      "outputs": [],
      "source": [
        "import csv\n",
        "import pandas as pd\n",
        "import numpy as np"
      ]
    },
    {
      "cell_type": "code",
      "execution_count": null,
      "metadata": {
        "colab": {
          "base_uri": "https://localhost:8080/"
        },
        "id": "Qk3Yu8tEIIpY",
        "outputId": "5f7a38a8-a78e-4fa1-eb41-5c852d22ee21"
      },
      "outputs": [],
      "source": [
        "with open (\"/content/ramen-ratings.csv\",'r')as file:\n",
        "  df =csv.reader(file)\n",
        "  for row in df:\n",
        "    print (row)"
      ]
    },
    {
      "cell_type": "code",
      "execution_count": null,
      "metadata": {
        "colab": {
          "base_uri": "https://localhost:8080/",
          "height": 423
        },
        "id": "1AuDES8laTH6",
        "outputId": "7e6ff3c3-5939-4b65-adb6-ca4172315ebc"
      },
      "outputs": [],
      "source": [
        "def drop(data):\n",
        "  data=data.dropna()\n",
        "  return data\n",
        "df=pd.read_csv('/content/ramen-ratings.csv')\n",
        "drop(df)"
      ]
    },
    {
      "cell_type": "code",
      "execution_count": null,
      "metadata": {
        "colab": {
          "base_uri": "https://localhost:8080/"
        },
        "id": "ihHB0BjwI6rc",
        "outputId": "dd17c5d5-d57d-4bf1-8556-25f3069c39a6"
      },
      "outputs": [],
      "source": [
        "df=df['Brand'].to_numpy()\n",
        "array=np.array(df)\n",
        "unique=np.unique(array)\n",
        "encode=np.zeros((len(array),len(unique)))\n",
        "for i,value in enumerate (array):\n",
        "  index=np.where(unique==value)[0][0]\n",
        "  encode[i,index]=1\n",
        "encode"
      ]
    },
    {
      "cell_type": "code",
      "execution_count": null,
      "metadata": {
        "colab": {
          "base_uri": "https://localhost:8080/"
        },
        "id": "D5g3iuYP_4qA",
        "outputId": "1355b43e-95a4-4222-b989-82df5b1c5c8d"
      },
      "outputs": [],
      "source": [
        "df=pd.read_csv('/content/ramen-ratings.csv')\n",
        "def describe_custom(data):\n",
        "    descriptions = []\n",
        "    for column_name in data.columns:\n",
        "        column_data = data[column_name]\n",
        "        if pd.api.types.is_numeric_dtype(column_data):\n",
        "            statistics = {\n",
        "                'count': len(column_data),\n",
        "                'mean': column_data.mean(),\n",
        "                'std': column_data.std(),\n",
        "                'min': column_data.min(),\n",
        "                '25%': column_data.quantile(0.25),\n",
        "                '50%': column_data.quantile(0.5),\n",
        "                '75%': column_data.quantile(0.75),\n",
        "                'max': column_data.max()\n",
        "            }\n",
        "        else:\n",
        "            statistics = {\n",
        "                'count': len(column_data),\n",
        "                'unique': len(column_data.unique()),\n",
        "                'top': column_data.mode()[0],\n",
        "                'freq': column_data.value_counts().max()\n",
        "            }\n",
        "        descriptions.append(pd.Series(statistics, name=column_name))\n",
        "    return pd.DataFrame(descriptions)\n",
        "describe_custom(df)"
      ]
    },
    {
      "cell_type": "code",
      "execution_count": null,
      "metadata": {
        "colab": {
          "base_uri": "https://localhost:8080/"
        },
        "id": "-q-QUHqR844N",
        "outputId": "e94443ff-0495-427f-c007-de47c8ae28db"
      },
      "outputs": [],
      "source": [
        "def missing_value(data):\n",
        "  data.fillna(data.median(),inplace=True)\n",
        "missing_value(csv_data)\n",
        "print(csv_data)"
      ]
    },
    {
      "cell_type": "code",
      "execution_count": null,
      "metadata": {
        "id": "lHNAeSQa_rGg"
      },
      "outputs": [],
      "source": []
    }
  ],
  "metadata": {
    "colab": {
      "provenance": []
    },
    "kernelspec": {
      "display_name": "Python 3",
      "name": "python3"
    },
    "language_info": {
      "name": "python"
    }
  },
  "nbformat": 4,
  "nbformat_minor": 0
}
