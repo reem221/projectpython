{
  "cells": [
    {
      "cell_type": "code",
      "execution_count": null,
      "metadata": {
        "id": "n1tJChWG8joF"
      },
      "outputs": [],
      "source": [
        "# We will use the abbreviation np instead of Numpy\n",
        "# We will use the abbreviation pd instead of Pandas\n",
        "import pandas as pd\n",
        "import numpy as np"
      ]
    },
    {
      "cell_type": "code",
      "execution_count": null,
      "metadata": {
        "colab": {
          "base_uri": "https://localhost:8080/"
        },
        "id": "Qk3Yu8tEIIpY",
        "outputId": "5f7a38a8-a78e-4fa1-eb41-5c852d22ee21"
      },
      "outputs": [],
      "source": [
        "data=pd.read_csv(\"/content/Mall_Customers.csv\")\n",
        "data"
      ]
    },
    {
      "cell_type": "code",
      "execution_count": null,
      "metadata": {
        "colab": {
          "base_uri": "https://localhost:8080/",
          "height": 423
        },
        "id": "1AuDES8laTH6",
        "outputId": "7e6ff3c3-5939-4b65-adb6-ca4172315ebc"
      },
      "outputs": [],
      "source": [
        "# we use (inplace=True) to make any update appear in original data\n",
        "data.drop(\"CustomerID\",axis=1,inplace=True) #we don't need CustomerID column,so we use drop function to remove it\n",
        "data"
      ]
    },
    {
      "cell_type": "code",
      "execution_count": null,
      "metadata": {
        "colab": {
          "base_uri": "https://localhost:8080/"
        },
        "id": "ihHB0BjwI6rc",
        "outputId": "dd17c5d5-d57d-4bf1-8556-25f3069c39a6"
      },
      "outputs": [],
      "source": [
        "#Numpy functions should be used to improve the performance\n",
        "df=data.loc[:,\"Annual Income (k$)\"].mean() #to find average of Annual Income column\n",
        "df"
      ]
    },
    {
      "cell_type": "code",
      "execution_count": null,
      "metadata": {
        "colab": {
          "base_uri": "https://localhost:8080/"
        },
        "id": "D5g3iuYP_4qA",
        "outputId": "1355b43e-95a4-4222-b989-82df5b1c5c8d"
      },
      "outputs": [],
      "source": [
        "df=data.loc[:,\"Annual Income (k$)\"].std() #to find standard deviation of Annual Income column\n",
        "df"
      ]
    },
    {
      "cell_type": "code",
      "execution_count": null,
      "metadata": {
        "colab": {
          "base_uri": "https://localhost:8080/"
        },
        "id": "-q-QUHqR844N",
        "outputId": "e94443ff-0495-427f-c007-de47c8ae28db"
      },
      "outputs": [],
      "source": [
        "df=data.loc[:,\"Annual Income (k$)\"].sum() #to find sum of Annual Income column\n",
        "df"
      ]
    },
    {
      "cell_type": "code",
      "execution_count": null,
      "metadata": {
        "id": "lHNAeSQa_rGg"
      },
      "outputs": [],
      "source": [
        "import csv\n",
        "with open(\"/content/Mall_Customers.csv\",'r') as file:\n",
        "  csv_reader=csv.reader(file)\n",
        "  for row in csv_reader:\n",
        "    print(row)\n",
        "file.close()"
      ]
    },
    {
      "cell_type": "code",
      "execution_count": null,
      "metadata": {},
      "outputs": [],
      "source": [
        "import csv\n",
        "def read_csv(file_path):\n",
        "  data=[]\n",
        "  with open(file_path,'r') as file:\n",
        "    csv_reader=csv.reader(file)\n",
        "    for row in csv_reader:\n",
        "      data.append(row)\n",
        "  return data\n",
        "file_path=\"/content/Mall_Customers.csv\"\n",
        "csv_data=read_csv(file_path)\n",
        "csv_data\n",
        "\n"
      ]
    },
    {
      "cell_type": "code",
      "execution_count": null,
      "metadata": {},
      "outputs": [],
      "source": [
        "df=pd.read_csv(\"/content/Mall_Customers.csv\") #data reading\n",
        "df"
      ]
    },
    {
      "cell_type": "code",
      "execution_count": null,
      "metadata": {},
      "outputs": [],
      "source": [
        "def drop_missing_values(data):\n",
        "  data_dropped=data.dropna()\n",
        "  return data_dropped\n",
        "data=pd.read_csv(\"/content/Mall_Customers.csv\")\n",
        "data_dropped=drop_missing_values(data)\n",
        "print(data_dropped)"
      ]
    },
    {
      "cell_type": "code",
      "execution_count": null,
      "metadata": {},
      "outputs": [],
      "source": [
        "df.info() # missing value handling"
      ]
    },
    {
      "cell_type": "code",
      "execution_count": null,
      "metadata": {},
      "outputs": [],
      "source": [
        "# There are no missing values from data info ,so size of data will remain constant\n",
        "df.dropna()\n",
        "df"
      ]
    },
    {
      "cell_type": "code",
      "execution_count": null,
      "metadata": {},
      "outputs": [],
      "source": [
        "df.dropna(axis=\"columns\") #to find missing values on columns\n",
        "df"
      ]
    },
    {
      "cell_type": "code",
      "execution_count": null,
      "metadata": {},
      "outputs": [],
      "source": [
        "import numpy as np\n",
        "data=df[\"Genre\"].to_numpy()\n",
        "data_array=np.array(data)\n",
        "unique_values=np.unique(data_array)\n",
        "encoded_data=np.zeros((len(data_array),len(unique_values)))\n",
        "for i ,value in enumerate(data_array):\n",
        "  index=np.where(unique_values == value)[0][0]\n",
        "  encoded_data[i,index]=1\n",
        "print(encoded_data)\n"
      ]
    },
    {
      "cell_type": "code",
      "execution_count": null,
      "metadata": {},
      "outputs": [],
      "source": [
        "df=pd.get_dummies(df,drop_first=True)  #categorical data encoding.\n",
        "df"
      ]
    },
    {
      "cell_type": "code",
      "execution_count": null,
      "metadata": {},
      "outputs": [],
      "source": [
        "import pandas as pd\n",
        "\n",
        "# Load your dataset into a Pandas DataFrame\n",
        "data = pd.read_csv('/content/Mall_Customers.csv')\n",
        "data = data.dropna()\n",
        "# Generate statistical summary\n",
        "summary = data.describe()\n",
        "# Print the summary\n",
        "print(summary)"
      ]
    },
    {
      "cell_type": "code",
      "execution_count": null,
      "metadata": {},
      "outputs": [],
      "source": [
        "data=pd.read_csv(\"/content/Mall_Customers.csv\")\n",
        "def describe_custom(data):\n",
        "    descriptions = []\n",
        "    for column_name in data.columns:\n",
        "        column_data = data[column_name]\n",
        "        if pd.api.types.is_numeric_dtype(column_data):\n",
        "            statistics = {\n",
        "                'count': len(column_data),\n",
        "                'mean': column_data.mean(),\n",
        "                'std': column_data.std(),\n",
        "                'min': column_data.min(),\n",
        "                '25%': column_data.quantile(0.25),\n",
        "                '50%': column_data.quantile(0.5),\n",
        "                '75%': column_data.quantile(0.75),\n",
        "                'max': column_data.max()\n",
        "            }\n",
        "        else:\n",
        "            statistics = {\n",
        "                'count': len(column_data),\n",
        "                'unique': len(column_data.unique()),\n",
        "                'top': column_data.mode()[0],\n",
        "                'freq': column_data.value_counts().max()\n",
        "            }\n",
        "        descriptions.append(pd.Series(statistics, name=column_name))\n",
        "    return pd.DataFrame(descriptions)\n",
        "describe_custom(data)"
      ]
    }
  ],
  "metadata": {
    "colab": {
      "provenance": []
    },
    "kernelspec": {
      "display_name": "Python 3",
      "name": "python3"
    },
    "language_info": {
      "name": "python"
    }
  },
  "nbformat": 4,
  "nbformat_minor": 0
}
